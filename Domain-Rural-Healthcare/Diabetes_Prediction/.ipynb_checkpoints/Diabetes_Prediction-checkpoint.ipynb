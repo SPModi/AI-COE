{
 "cells": [
  {
   "cell_type": "markdown",
   "metadata": {},
   "source": [
    "<h2> Diabetes Prediction Notebook </h2>"
   ]
  },
  {
   "cell_type": "code",
   "execution_count": null,
   "metadata": {},
   "outputs": [],
   "source": [
    "from sklearn import tree\n",
    "from google.colab import drive"
   ]
  },
  {
   "cell_type": "markdown",
   "metadata": {},
   "source": [
    "<h3> Load training Data:</h3>\n",
    "<h4> Data source: https://www.kaggle.com/uciml/pima-indians-diabetes-database </h4>\n",
    "\n",
    "Go through the kaggle data source, click on 'Datasets' on navigation bar to see the abundance of data it has!\n"
   ]
  },
  {
   "cell_type": "code",
   "execution_count": null,
   "metadata": {},
   "outputs": [],
   "source": [
    "#Load training data from Google Drive on Colab\n",
    "drive.mount('/content/drive')\n",
    "file_train = 'drive/My Drive/Colab Notebooks/pima-indians-diabetes.csv' #replace 'Colab Notebooks' with your folder name on gdrive\n",
    "\n",
    "dataset = numpy.loadtxt(file_train, delimiter=\",\")\n",
    "\n",
    "# split into input (X) and output (Y) variables\n",
    "X = dataset[:,0:8]\n",
    "Y = dataset[:,8]"
   ]
  },
  {
   "cell_type": "markdown",
   "metadata": {},
   "source": [
    "<h3> Columns:</h3>\n",
    "\n",
    "Pregnancies - Number of times pregnant <br>\n",
    "GlucosePlasma - glucose concentration a 2 hours in an oral glucose tolerance test <br>\n",
    "BloodPressure - Diastolic blood pressure (mm Hg) <br>\n",
    "SkinThickness - Triceps skin fold thickness (mm)  <br>\n",
    "Insulin - 2-Hour serum insulin (mu U/ml) <br>\n",
    "BMI - Body mass index (weight in kg/(height in m)^2) <br>\n",
    "DiabetesPedigreeFunction - Diabetes pedigree function Age - Age (years) <br>\n"
   ]
  },
  {
   "cell_type": "code",
   "execution_count": null,
   "metadata": {},
   "outputs": [],
   "source": [
    "print (X)"
   ]
  },
  {
   "cell_type": "markdown",
   "metadata": {},
   "source": [
    "<h3> Training a Decision Tree classifier on training data </h3>"
   ]
  },
  {
   "cell_type": "code",
   "execution_count": null,
   "metadata": {},
   "outputs": [],
   "source": [
    "clf = tree.DecisionTreeClassifier()\n",
    "clf = clf.fit(X, Y)"
   ]
  },
  {
   "cell_type": "markdown",
   "metadata": {},
   "source": [
    "<h3> Load a new user data to run prediction </h3>"
   ]
  },
  {
   "cell_type": "code",
   "execution_count": null,
   "metadata": {},
   "outputs": [],
   "source": [
    "file_test = 'drive/My Drive/Colab Notebooks/user_input1.csv'\n",
    "user_data = numpy.loadtxt(file_test, delimiter=\",\")\n",
    "U = user_data[:,0:8]\n"
   ]
  },
  {
   "cell_type": "code",
   "execution_count": null,
   "metadata": {},
   "outputs": [],
   "source": [
    "print (U)"
   ]
  },
  {
   "cell_type": "markdown",
   "metadata": {},
   "source": [
    "<h3> Running prediction on new user input [Result: O-No & 1-Yes] </h3>\n"
   ]
  },
  {
   "cell_type": "code",
   "execution_count": null,
   "metadata": {},
   "outputs": [],
   "source": [
    "clf.predict(U)"
   ]
  }
 ],
 "metadata": {
  "kernelspec": {
   "display_name": "Python 3",
   "language": "python",
   "name": "python3"
  },
  "language_info": {
   "codemirror_mode": {
    "name": "ipython",
    "version": 3
   },
   "file_extension": ".py",
   "mimetype": "text/x-python",
   "name": "python",
   "nbconvert_exporter": "python",
   "pygments_lexer": "ipython3",
   "version": "3.6.4"
  }
 },
 "nbformat": 4,
 "nbformat_minor": 2
}
